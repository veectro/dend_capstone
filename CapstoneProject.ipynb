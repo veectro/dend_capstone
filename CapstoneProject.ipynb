{
 "cells": [
  {
   "cell_type": "markdown",
   "metadata": {
    "editable": true
   },
   "source": [
    "# Project Title\n",
    "### Data Engineering Capstone Project\n",
    "\n",
    "#### Project Summary\n",
    "In this project, a data warehouse for analytical purposes are created with an ETL pipeline. The database is designed as a star schema with transactions of purchase of fashion articles from H&M.\n",
    "\n",
    "Following question could be answered:\n",
    "- Which products group are most popular in year 2020?\n",
    "- What is the distribution of user that buy the TShirt and also has active club member?\n",
    "\n",
    "\n",
    "The project follows the follow steps:\n",
    "* Step 1: Scope the Project and Gather Data\n",
    "* Step 2: Explore and Assess the Data\n",
    "* Step 3: Define the Data Model\n",
    "* Step 4: Run ETL to Model the Data\n",
    "* Step 5: Complete Project Write Up"
   ]
  },
  {
   "cell_type": "code",
   "execution_count": 1,
   "metadata": {
    "editable": true
   },
   "outputs": [],
   "source": [
    "# Imports all dependency packages\n",
    "import pandas as pd"
   ]
  },
  {
   "cell_type": "markdown",
   "metadata": {
    "editable": true
   },
   "source": [
    "### Step 1: Scope the Project and Gather Data\n",
    "\n",
    "#### Scope\n",
    "\n",
    "In this project, an ETL pipeline to provide the analytics team with a data model that can be used to recommend products to customers.\n",
    "\n",
    "![Pipeline](./assets/pipeline.png)\n",
    "\n",
    "Pipeline:\n",
    "1. Gather data from kaggle\n",
    "    For this project, manual download and upload into S3 will be used. In day to day operation, a streaming data pipeline, or directly accessing the data from the source DB, should be used. A pipeline that ingest the data source are recommended.\n",
    "2. Save the csv data into staging area in redshift.\n",
    "3. Save the partitioned image data (the images are already partitioned with the first three digist of article id)in S3.\n",
    "4. Creating a star schema from the staging area in Redshift\n",
    "\n",
    "Technology used:\n",
    "- S3 : for saving source dataset\n",
    "- Redshift : for staging and serves as datawarehouse\n",
    "- Airflow : orchestration tool for ETL pipeline\n",
    "\n",
    "In the future a spark cluster could be used for processing the data. Because the data we obtained are already cleaned, so we don't need to do any further processing and cleaning.\n",
    "\n",
    "#### Describe and Gather Data\n",
    "\n",
    "The dataset was obtained from [kagle competition](https://www.kaggle.com/c/h-and-m-personalized-fashion-recommendations/data) dataset. The dataset are already cleaned. Gathering the data are done with the `kagle cli` with following command:\n",
    "`kaggle competitions download -c h-and-m-personalized-fashion-recommendations`\n",
    "\n",
    "\n",
    "The dataset contains the purchase history of the customers. Following files are included in the dataset:\n",
    "\n",
    "- images/ - a folder of images corresponding to each article_id; images are partitioned with the first three digits of articles id.\n",
    "- articles.csv - detailed metadata for each article_id available for purchase\n",
    "- customers.csv - metadata for each customer_id in dataset\n",
    "- transactions_train.csv - the purchases history each customer for each date."
   ]
  },
  {
   "cell_type": "markdown",
   "source": [
    "##### Article Dataset"
   ],
   "metadata": {
    "collapsed": false
   }
  },
  {
   "cell_type": "code",
   "execution_count": 39,
   "metadata": {
    "editable": true
   },
   "outputs": [
    {
     "data": {
      "text/plain": "    article_id  product_code                  prod_name  product_type_no  \\\n0    108775015        108775                  Strap top              253   \n1    108775044        108775                  Strap top              253   \n2    108775051        108775              Strap top (1)              253   \n3    110065001        110065          OP T-shirt (Idro)              306   \n4    110065002        110065          OP T-shirt (Idro)              306   \n5    110065011        110065          OP T-shirt (Idro)              306   \n6    111565001        111565        20 den 1p Stockings              304   \n7    111565003        111565        20 den 1p Stockings              302   \n8    111586001        111586  Shape Up 30 den 1p Tights              273   \n9    111593001        111593   Support 40 den 1p Tights              304   \n10   111609001        111609          200 den 1p Tights              304   \n11   112679048        112679             SWEATSHIRT  OC              252   \n12   112679052        112679             SWEATSHIRT  OC              252   \n13   114428026        114428          Alice BANDEAU 2-p              306   \n14   114428030        114428          Alice BANDEAU 2-p              306   \n15   116379047        116379          Frugan longsleeve              254   \n16   118458003        118458       Jerry jogger bottoms              272   \n17   118458004        118458       Jerry jogger bottoms              272   \n18   118458028        118458       Jerry jogger bottoms              272   \n19   118458029        118458       Jerry jogger bottoms              272   \n\n   product_type_name  product_group_name  graphical_appearance_no  \\\n0           Vest top  Garment Upper body                  1010016   \n1           Vest top  Garment Upper body                  1010016   \n2           Vest top  Garment Upper body                  1010017   \n3                Bra           Underwear                  1010016   \n4                Bra           Underwear                  1010016   \n5                Bra           Underwear                  1010016   \n6   Underwear Tights      Socks & Tights                  1010016   \n7              Socks      Socks & Tights                  1010016   \n8    Leggings/Tights  Garment Lower body                  1010016   \n9   Underwear Tights      Socks & Tights                  1010016   \n10  Underwear Tights      Socks & Tights                  1010016   \n11           Sweater  Garment Upper body                  1010001   \n12           Sweater  Garment Upper body                  1010001   \n13               Bra           Underwear                  1010017   \n14               Bra           Underwear                  1010016   \n15               Top  Garment Upper body                  1010016   \n16          Trousers  Garment Lower body                  1010010   \n17          Trousers  Garment Lower body                  1010010   \n18          Trousers  Garment Lower body                  1010016   \n19          Trousers  Garment Lower body                  1010010   \n\n   graphical_appearance_name  colour_group_code colour_group_name  ...  \\\n0                      Solid                  9             Black  ...   \n1                      Solid                 10             White  ...   \n2                     Stripe                 11         Off White  ...   \n3                      Solid                  9             Black  ...   \n4                      Solid                 10             White  ...   \n5                      Solid                 12       Light Beige  ...   \n6                      Solid                  9             Black  ...   \n7                      Solid                 13             Beige  ...   \n8                      Solid                  9             Black  ...   \n9                      Solid                  9             Black  ...   \n10                     Solid                  9             Black  ...   \n11          All over pattern                  7              Grey  ...   \n12          All over pattern                 71        Light Blue  ...   \n13                    Stripe                 10             White  ...   \n14                     Solid                  6        Light Grey  ...   \n15                     Solid                 73         Dark Blue  ...   \n16                   Melange                  8         Dark Grey  ...   \n17                   Melange                  7              Grey  ...   \n18                     Solid                  9             Black  ...   \n19                   Melange                  8         Dark Grey  ...   \n\n    department_name index_code        index_name index_group_no  \\\n0      Jersey Basic          A        Ladieswear              1   \n1      Jersey Basic          A        Ladieswear              1   \n2      Jersey Basic          A        Ladieswear              1   \n3    Clean Lingerie          B  Lingeries/Tights              1   \n4    Clean Lingerie          B  Lingeries/Tights              1   \n5    Clean Lingerie          B  Lingeries/Tights              1   \n6      Tights basic          B  Lingeries/Tights              1   \n7      Tights basic          B  Lingeries/Tights              1   \n8      Tights basic          B  Lingeries/Tights              1   \n9      Tights basic          B  Lingeries/Tights              1   \n10     Tights basic          B  Lingeries/Tights              1   \n11      Baby basics          G  Baby Sizes 50-98              4   \n12      Baby basics          G  Baby Sizes 50-98              4   \n13  Casual Lingerie          B  Lingeries/Tights              1   \n14  Casual Lingerie          B  Lingeries/Tights              1   \n15     Jersey Basic          A        Ladieswear              1   \n16     Jersey Basic          F          Menswear              3   \n17     Jersey Basic          F          Menswear              3   \n18     Jersey Basic          F          Menswear              3   \n19     Jersey Basic          F          Menswear              3   \n\n    index_group_name section_no                    section_name  \\\n0         Ladieswear         16          Womens Everyday Basics   \n1         Ladieswear         16          Womens Everyday Basics   \n2         Ladieswear         16          Womens Everyday Basics   \n3         Ladieswear         61                 Womens Lingerie   \n4         Ladieswear         61                 Womens Lingerie   \n5         Ladieswear         61                 Womens Lingerie   \n6         Ladieswear         62  Womens Nightwear, Socks & Tigh   \n7         Ladieswear         62  Womens Nightwear, Socks & Tigh   \n8         Ladieswear         62  Womens Nightwear, Socks & Tigh   \n9         Ladieswear         62  Womens Nightwear, Socks & Tigh   \n10        Ladieswear         62  Womens Nightwear, Socks & Tigh   \n11     Baby/Children         44   Baby Essentials & Complements   \n12     Baby/Children         44   Baby Essentials & Complements   \n13        Ladieswear         61                 Womens Lingerie   \n14        Ladieswear         61                 Womens Lingerie   \n15        Ladieswear         16          Womens Everyday Basics   \n16          Menswear         26                   Men Underwear   \n17          Menswear         26                   Men Underwear   \n18          Menswear         26                   Men Underwear   \n19          Menswear         26                   Men Underwear   \n\n   garment_group_no  garment_group_name  \\\n0              1002        Jersey Basic   \n1              1002        Jersey Basic   \n2              1002        Jersey Basic   \n3              1017   Under-, Nightwear   \n4              1017   Under-, Nightwear   \n5              1017   Under-, Nightwear   \n6              1021    Socks and Tights   \n7              1021    Socks and Tights   \n8              1021    Socks and Tights   \n9              1021    Socks and Tights   \n10             1021    Socks and Tights   \n11             1002        Jersey Basic   \n12             1002        Jersey Basic   \n13             1017   Under-, Nightwear   \n14             1017   Under-, Nightwear   \n15             1002        Jersey Basic   \n16             1002        Jersey Basic   \n17             1002        Jersey Basic   \n18             1002        Jersey Basic   \n19             1002        Jersey Basic   \n\n                                          detail_desc  \n0             Jersey top with narrow shoulder straps.  \n1             Jersey top with narrow shoulder straps.  \n2             Jersey top with narrow shoulder straps.  \n3   Microfibre T-shirt bra with underwired, moulde...  \n4   Microfibre T-shirt bra with underwired, moulde...  \n5   Microfibre T-shirt bra with underwired, moulde...  \n6   Semi shiny nylon stockings with a wide, reinfo...  \n7   Semi shiny nylon stockings with a wide, reinfo...  \n8   Tights with built-in support to lift the botto...  \n9   Semi shiny tights that shape the tummy, thighs...  \n10                    Opaque matt tights. 200 denier.  \n11  Sweatshirt in soft organic cotton with a  pres...  \n12  Sweatshirt in soft organic cotton with a  pres...  \n13  Two soft bandeau bras in soft jersey with side...  \n14  Two soft bandeau bras in soft jersey with side...  \n15  Fitted top in soft stretch jersey with a wide ...  \n16  Trousers in sweatshirt fabric with an elastica...  \n17  Trousers in sweatshirt fabric with an elastica...  \n18  Trousers in sweatshirt fabric with an elastica...  \n19  Trousers in sweatshirt fabric with an elastica...  \n\n[20 rows x 25 columns]",
      "text/html": "<div>\n<style scoped>\n    .dataframe tbody tr th:only-of-type {\n        vertical-align: middle;\n    }\n\n    .dataframe tbody tr th {\n        vertical-align: top;\n    }\n\n    .dataframe thead th {\n        text-align: right;\n    }\n</style>\n<table border=\"1\" class=\"dataframe\">\n  <thead>\n    <tr style=\"text-align: right;\">\n      <th></th>\n      <th>article_id</th>\n      <th>product_code</th>\n      <th>prod_name</th>\n      <th>product_type_no</th>\n      <th>product_type_name</th>\n      <th>product_group_name</th>\n      <th>graphical_appearance_no</th>\n      <th>graphical_appearance_name</th>\n      <th>colour_group_code</th>\n      <th>colour_group_name</th>\n      <th>...</th>\n      <th>department_name</th>\n      <th>index_code</th>\n      <th>index_name</th>\n      <th>index_group_no</th>\n      <th>index_group_name</th>\n      <th>section_no</th>\n      <th>section_name</th>\n      <th>garment_group_no</th>\n      <th>garment_group_name</th>\n      <th>detail_desc</th>\n    </tr>\n  </thead>\n  <tbody>\n    <tr>\n      <th>0</th>\n      <td>108775015</td>\n      <td>108775</td>\n      <td>Strap top</td>\n      <td>253</td>\n      <td>Vest top</td>\n      <td>Garment Upper body</td>\n      <td>1010016</td>\n      <td>Solid</td>\n      <td>9</td>\n      <td>Black</td>\n      <td>...</td>\n      <td>Jersey Basic</td>\n      <td>A</td>\n      <td>Ladieswear</td>\n      <td>1</td>\n      <td>Ladieswear</td>\n      <td>16</td>\n      <td>Womens Everyday Basics</td>\n      <td>1002</td>\n      <td>Jersey Basic</td>\n      <td>Jersey top with narrow shoulder straps.</td>\n    </tr>\n    <tr>\n      <th>1</th>\n      <td>108775044</td>\n      <td>108775</td>\n      <td>Strap top</td>\n      <td>253</td>\n      <td>Vest top</td>\n      <td>Garment Upper body</td>\n      <td>1010016</td>\n      <td>Solid</td>\n      <td>10</td>\n      <td>White</td>\n      <td>...</td>\n      <td>Jersey Basic</td>\n      <td>A</td>\n      <td>Ladieswear</td>\n      <td>1</td>\n      <td>Ladieswear</td>\n      <td>16</td>\n      <td>Womens Everyday Basics</td>\n      <td>1002</td>\n      <td>Jersey Basic</td>\n      <td>Jersey top with narrow shoulder straps.</td>\n    </tr>\n    <tr>\n      <th>2</th>\n      <td>108775051</td>\n      <td>108775</td>\n      <td>Strap top (1)</td>\n      <td>253</td>\n      <td>Vest top</td>\n      <td>Garment Upper body</td>\n      <td>1010017</td>\n      <td>Stripe</td>\n      <td>11</td>\n      <td>Off White</td>\n      <td>...</td>\n      <td>Jersey Basic</td>\n      <td>A</td>\n      <td>Ladieswear</td>\n      <td>1</td>\n      <td>Ladieswear</td>\n      <td>16</td>\n      <td>Womens Everyday Basics</td>\n      <td>1002</td>\n      <td>Jersey Basic</td>\n      <td>Jersey top with narrow shoulder straps.</td>\n    </tr>\n    <tr>\n      <th>3</th>\n      <td>110065001</td>\n      <td>110065</td>\n      <td>OP T-shirt (Idro)</td>\n      <td>306</td>\n      <td>Bra</td>\n      <td>Underwear</td>\n      <td>1010016</td>\n      <td>Solid</td>\n      <td>9</td>\n      <td>Black</td>\n      <td>...</td>\n      <td>Clean Lingerie</td>\n      <td>B</td>\n      <td>Lingeries/Tights</td>\n      <td>1</td>\n      <td>Ladieswear</td>\n      <td>61</td>\n      <td>Womens Lingerie</td>\n      <td>1017</td>\n      <td>Under-, Nightwear</td>\n      <td>Microfibre T-shirt bra with underwired, moulde...</td>\n    </tr>\n    <tr>\n      <th>4</th>\n      <td>110065002</td>\n      <td>110065</td>\n      <td>OP T-shirt (Idro)</td>\n      <td>306</td>\n      <td>Bra</td>\n      <td>Underwear</td>\n      <td>1010016</td>\n      <td>Solid</td>\n      <td>10</td>\n      <td>White</td>\n      <td>...</td>\n      <td>Clean Lingerie</td>\n      <td>B</td>\n      <td>Lingeries/Tights</td>\n      <td>1</td>\n      <td>Ladieswear</td>\n      <td>61</td>\n      <td>Womens Lingerie</td>\n      <td>1017</td>\n      <td>Under-, Nightwear</td>\n      <td>Microfibre T-shirt bra with underwired, moulde...</td>\n    </tr>\n    <tr>\n      <th>5</th>\n      <td>110065011</td>\n      <td>110065</td>\n      <td>OP T-shirt (Idro)</td>\n      <td>306</td>\n      <td>Bra</td>\n      <td>Underwear</td>\n      <td>1010016</td>\n      <td>Solid</td>\n      <td>12</td>\n      <td>Light Beige</td>\n      <td>...</td>\n      <td>Clean Lingerie</td>\n      <td>B</td>\n      <td>Lingeries/Tights</td>\n      <td>1</td>\n      <td>Ladieswear</td>\n      <td>61</td>\n      <td>Womens Lingerie</td>\n      <td>1017</td>\n      <td>Under-, Nightwear</td>\n      <td>Microfibre T-shirt bra with underwired, moulde...</td>\n    </tr>\n    <tr>\n      <th>6</th>\n      <td>111565001</td>\n      <td>111565</td>\n      <td>20 den 1p Stockings</td>\n      <td>304</td>\n      <td>Underwear Tights</td>\n      <td>Socks &amp; Tights</td>\n      <td>1010016</td>\n      <td>Solid</td>\n      <td>9</td>\n      <td>Black</td>\n      <td>...</td>\n      <td>Tights basic</td>\n      <td>B</td>\n      <td>Lingeries/Tights</td>\n      <td>1</td>\n      <td>Ladieswear</td>\n      <td>62</td>\n      <td>Womens Nightwear, Socks &amp; Tigh</td>\n      <td>1021</td>\n      <td>Socks and Tights</td>\n      <td>Semi shiny nylon stockings with a wide, reinfo...</td>\n    </tr>\n    <tr>\n      <th>7</th>\n      <td>111565003</td>\n      <td>111565</td>\n      <td>20 den 1p Stockings</td>\n      <td>302</td>\n      <td>Socks</td>\n      <td>Socks &amp; Tights</td>\n      <td>1010016</td>\n      <td>Solid</td>\n      <td>13</td>\n      <td>Beige</td>\n      <td>...</td>\n      <td>Tights basic</td>\n      <td>B</td>\n      <td>Lingeries/Tights</td>\n      <td>1</td>\n      <td>Ladieswear</td>\n      <td>62</td>\n      <td>Womens Nightwear, Socks &amp; Tigh</td>\n      <td>1021</td>\n      <td>Socks and Tights</td>\n      <td>Semi shiny nylon stockings with a wide, reinfo...</td>\n    </tr>\n    <tr>\n      <th>8</th>\n      <td>111586001</td>\n      <td>111586</td>\n      <td>Shape Up 30 den 1p Tights</td>\n      <td>273</td>\n      <td>Leggings/Tights</td>\n      <td>Garment Lower body</td>\n      <td>1010016</td>\n      <td>Solid</td>\n      <td>9</td>\n      <td>Black</td>\n      <td>...</td>\n      <td>Tights basic</td>\n      <td>B</td>\n      <td>Lingeries/Tights</td>\n      <td>1</td>\n      <td>Ladieswear</td>\n      <td>62</td>\n      <td>Womens Nightwear, Socks &amp; Tigh</td>\n      <td>1021</td>\n      <td>Socks and Tights</td>\n      <td>Tights with built-in support to lift the botto...</td>\n    </tr>\n    <tr>\n      <th>9</th>\n      <td>111593001</td>\n      <td>111593</td>\n      <td>Support 40 den 1p Tights</td>\n      <td>304</td>\n      <td>Underwear Tights</td>\n      <td>Socks &amp; Tights</td>\n      <td>1010016</td>\n      <td>Solid</td>\n      <td>9</td>\n      <td>Black</td>\n      <td>...</td>\n      <td>Tights basic</td>\n      <td>B</td>\n      <td>Lingeries/Tights</td>\n      <td>1</td>\n      <td>Ladieswear</td>\n      <td>62</td>\n      <td>Womens Nightwear, Socks &amp; Tigh</td>\n      <td>1021</td>\n      <td>Socks and Tights</td>\n      <td>Semi shiny tights that shape the tummy, thighs...</td>\n    </tr>\n    <tr>\n      <th>10</th>\n      <td>111609001</td>\n      <td>111609</td>\n      <td>200 den 1p Tights</td>\n      <td>304</td>\n      <td>Underwear Tights</td>\n      <td>Socks &amp; Tights</td>\n      <td>1010016</td>\n      <td>Solid</td>\n      <td>9</td>\n      <td>Black</td>\n      <td>...</td>\n      <td>Tights basic</td>\n      <td>B</td>\n      <td>Lingeries/Tights</td>\n      <td>1</td>\n      <td>Ladieswear</td>\n      <td>62</td>\n      <td>Womens Nightwear, Socks &amp; Tigh</td>\n      <td>1021</td>\n      <td>Socks and Tights</td>\n      <td>Opaque matt tights. 200 denier.</td>\n    </tr>\n    <tr>\n      <th>11</th>\n      <td>112679048</td>\n      <td>112679</td>\n      <td>SWEATSHIRT  OC</td>\n      <td>252</td>\n      <td>Sweater</td>\n      <td>Garment Upper body</td>\n      <td>1010001</td>\n      <td>All over pattern</td>\n      <td>7</td>\n      <td>Grey</td>\n      <td>...</td>\n      <td>Baby basics</td>\n      <td>G</td>\n      <td>Baby Sizes 50-98</td>\n      <td>4</td>\n      <td>Baby/Children</td>\n      <td>44</td>\n      <td>Baby Essentials &amp; Complements</td>\n      <td>1002</td>\n      <td>Jersey Basic</td>\n      <td>Sweatshirt in soft organic cotton with a  pres...</td>\n    </tr>\n    <tr>\n      <th>12</th>\n      <td>112679052</td>\n      <td>112679</td>\n      <td>SWEATSHIRT  OC</td>\n      <td>252</td>\n      <td>Sweater</td>\n      <td>Garment Upper body</td>\n      <td>1010001</td>\n      <td>All over pattern</td>\n      <td>71</td>\n      <td>Light Blue</td>\n      <td>...</td>\n      <td>Baby basics</td>\n      <td>G</td>\n      <td>Baby Sizes 50-98</td>\n      <td>4</td>\n      <td>Baby/Children</td>\n      <td>44</td>\n      <td>Baby Essentials &amp; Complements</td>\n      <td>1002</td>\n      <td>Jersey Basic</td>\n      <td>Sweatshirt in soft organic cotton with a  pres...</td>\n    </tr>\n    <tr>\n      <th>13</th>\n      <td>114428026</td>\n      <td>114428</td>\n      <td>Alice BANDEAU 2-p</td>\n      <td>306</td>\n      <td>Bra</td>\n      <td>Underwear</td>\n      <td>1010017</td>\n      <td>Stripe</td>\n      <td>10</td>\n      <td>White</td>\n      <td>...</td>\n      <td>Casual Lingerie</td>\n      <td>B</td>\n      <td>Lingeries/Tights</td>\n      <td>1</td>\n      <td>Ladieswear</td>\n      <td>61</td>\n      <td>Womens Lingerie</td>\n      <td>1017</td>\n      <td>Under-, Nightwear</td>\n      <td>Two soft bandeau bras in soft jersey with side...</td>\n    </tr>\n    <tr>\n      <th>14</th>\n      <td>114428030</td>\n      <td>114428</td>\n      <td>Alice BANDEAU 2-p</td>\n      <td>306</td>\n      <td>Bra</td>\n      <td>Underwear</td>\n      <td>1010016</td>\n      <td>Solid</td>\n      <td>6</td>\n      <td>Light Grey</td>\n      <td>...</td>\n      <td>Casual Lingerie</td>\n      <td>B</td>\n      <td>Lingeries/Tights</td>\n      <td>1</td>\n      <td>Ladieswear</td>\n      <td>61</td>\n      <td>Womens Lingerie</td>\n      <td>1017</td>\n      <td>Under-, Nightwear</td>\n      <td>Two soft bandeau bras in soft jersey with side...</td>\n    </tr>\n    <tr>\n      <th>15</th>\n      <td>116379047</td>\n      <td>116379</td>\n      <td>Frugan longsleeve</td>\n      <td>254</td>\n      <td>Top</td>\n      <td>Garment Upper body</td>\n      <td>1010016</td>\n      <td>Solid</td>\n      <td>73</td>\n      <td>Dark Blue</td>\n      <td>...</td>\n      <td>Jersey Basic</td>\n      <td>A</td>\n      <td>Ladieswear</td>\n      <td>1</td>\n      <td>Ladieswear</td>\n      <td>16</td>\n      <td>Womens Everyday Basics</td>\n      <td>1002</td>\n      <td>Jersey Basic</td>\n      <td>Fitted top in soft stretch jersey with a wide ...</td>\n    </tr>\n    <tr>\n      <th>16</th>\n      <td>118458003</td>\n      <td>118458</td>\n      <td>Jerry jogger bottoms</td>\n      <td>272</td>\n      <td>Trousers</td>\n      <td>Garment Lower body</td>\n      <td>1010010</td>\n      <td>Melange</td>\n      <td>8</td>\n      <td>Dark Grey</td>\n      <td>...</td>\n      <td>Jersey Basic</td>\n      <td>F</td>\n      <td>Menswear</td>\n      <td>3</td>\n      <td>Menswear</td>\n      <td>26</td>\n      <td>Men Underwear</td>\n      <td>1002</td>\n      <td>Jersey Basic</td>\n      <td>Trousers in sweatshirt fabric with an elastica...</td>\n    </tr>\n    <tr>\n      <th>17</th>\n      <td>118458004</td>\n      <td>118458</td>\n      <td>Jerry jogger bottoms</td>\n      <td>272</td>\n      <td>Trousers</td>\n      <td>Garment Lower body</td>\n      <td>1010010</td>\n      <td>Melange</td>\n      <td>7</td>\n      <td>Grey</td>\n      <td>...</td>\n      <td>Jersey Basic</td>\n      <td>F</td>\n      <td>Menswear</td>\n      <td>3</td>\n      <td>Menswear</td>\n      <td>26</td>\n      <td>Men Underwear</td>\n      <td>1002</td>\n      <td>Jersey Basic</td>\n      <td>Trousers in sweatshirt fabric with an elastica...</td>\n    </tr>\n    <tr>\n      <th>18</th>\n      <td>118458028</td>\n      <td>118458</td>\n      <td>Jerry jogger bottoms</td>\n      <td>272</td>\n      <td>Trousers</td>\n      <td>Garment Lower body</td>\n      <td>1010016</td>\n      <td>Solid</td>\n      <td>9</td>\n      <td>Black</td>\n      <td>...</td>\n      <td>Jersey Basic</td>\n      <td>F</td>\n      <td>Menswear</td>\n      <td>3</td>\n      <td>Menswear</td>\n      <td>26</td>\n      <td>Men Underwear</td>\n      <td>1002</td>\n      <td>Jersey Basic</td>\n      <td>Trousers in sweatshirt fabric with an elastica...</td>\n    </tr>\n    <tr>\n      <th>19</th>\n      <td>118458029</td>\n      <td>118458</td>\n      <td>Jerry jogger bottoms</td>\n      <td>272</td>\n      <td>Trousers</td>\n      <td>Garment Lower body</td>\n      <td>1010010</td>\n      <td>Melange</td>\n      <td>8</td>\n      <td>Dark Grey</td>\n      <td>...</td>\n      <td>Jersey Basic</td>\n      <td>F</td>\n      <td>Menswear</td>\n      <td>3</td>\n      <td>Menswear</td>\n      <td>26</td>\n      <td>Men Underwear</td>\n      <td>1002</td>\n      <td>Jersey Basic</td>\n      <td>Trousers in sweatshirt fabric with an elastica...</td>\n    </tr>\n  </tbody>\n</table>\n<p>20 rows × 25 columns</p>\n</div>"
     },
     "execution_count": 39,
     "metadata": {},
     "output_type": "execute_result"
    }
   ],
   "source": [
    "# Read in the data here\n",
    "articles = pd.read_csv('dataset/full/articles.csv')\n",
    "articles.head(20)"
   ]
  },
  {
   "cell_type": "code",
   "execution_count": 14,
   "outputs": [
    {
     "name": "stdout",
     "output_type": "stream",
     "text": [
      "<class 'pandas.core.frame.DataFrame'>\n",
      "RangeIndex: 105542 entries, 0 to 105541\n",
      "Data columns (total 25 columns):\n",
      " #   Column                        Non-Null Count   Dtype \n",
      "---  ------                        --------------   ----- \n",
      " 0   article_id                    105542 non-null  int64 \n",
      " 1   product_code                  105542 non-null  int64 \n",
      " 2   prod_name                     105542 non-null  object\n",
      " 3   product_type_no               105542 non-null  int64 \n",
      " 4   product_type_name             105542 non-null  object\n",
      " 5   product_group_name            105542 non-null  object\n",
      " 6   graphical_appearance_no       105542 non-null  int64 \n",
      " 7   graphical_appearance_name     105542 non-null  object\n",
      " 8   colour_group_code             105542 non-null  int64 \n",
      " 9   colour_group_name             105542 non-null  object\n",
      " 10  perceived_colour_value_id     105542 non-null  int64 \n",
      " 11  perceived_colour_value_name   105542 non-null  object\n",
      " 12  perceived_colour_master_id    105542 non-null  int64 \n",
      " 13  perceived_colour_master_name  105542 non-null  object\n",
      " 14  department_no                 105542 non-null  int64 \n",
      " 15  department_name               105542 non-null  object\n",
      " 16  index_code                    105542 non-null  object\n",
      " 17  index_name                    105542 non-null  object\n",
      " 18  index_group_no                105542 non-null  int64 \n",
      " 19  index_group_name              105542 non-null  object\n",
      " 20  section_no                    105542 non-null  int64 \n",
      " 21  section_name                  105542 non-null  object\n",
      " 22  garment_group_no              105542 non-null  int64 \n",
      " 23  garment_group_name            105542 non-null  object\n",
      " 24  detail_desc                   105126 non-null  object\n",
      "dtypes: int64(11), object(14)\n",
      "memory usage: 20.1+ MB\n"
     ]
    }
   ],
   "source": [
    "articles.info()"
   ],
   "metadata": {
    "collapsed": false,
    "pycharm": {
     "name": "#%%\n"
    }
   }
  },
  {
   "cell_type": "code",
   "execution_count": 15,
   "outputs": [
    {
     "name": "stdout",
     "output_type": "stream",
     "text": [
      "Article dataset has 105542 rows and 25 columns\n"
     ]
    }
   ],
   "source": [
    "print(f'Article dataset has {articles.shape[0]} rows and {articles.shape[1]} columns')"
   ],
   "metadata": {
    "collapsed": false,
    "pycharm": {
     "name": "#%%\n"
    }
   }
  },
  {
   "cell_type": "markdown",
   "source": [
    "##### Customers Dataset"
   ],
   "metadata": {
    "collapsed": false
   }
  },
  {
   "cell_type": "code",
   "execution_count": 16,
   "outputs": [
    {
     "data": {
      "text/plain": "                                         customer_id   FN  Active  \\\n0  00000dbacae5abe5e23885899a1fa44253a17956c6d1c3...  NaN     NaN   \n1  0000423b00ade91418cceaf3b26c6af3dd342b51fd051e...  NaN     NaN   \n2  000058a12d5b43e67d225668fa1f8d618c13dc232df0ca...  NaN     NaN   \n3  00005ca1c9ed5f5146b52ac8639a40ca9d57aeff4d1bd2...  NaN     NaN   \n4  00006413d8573cd20ed7128e53b7b13819fe5cfc2d801f...  1.0     1.0   \n\n  club_member_status fashion_news_frequency   age  \\\n0             ACTIVE                   NONE  49.0   \n1             ACTIVE                   NONE  25.0   \n2             ACTIVE                   NONE  24.0   \n3             ACTIVE                   NONE  54.0   \n4             ACTIVE              Regularly  52.0   \n\n                                         postal_code  \n0  52043ee2162cf5aa7ee79974281641c6f11a68d276429a...  \n1  2973abc54daa8a5f8ccfe9362140c63247c5eee03f1d93...  \n2  64f17e6a330a85798e4998f62d0930d14db8db1c054af6...  \n3  5d36574f52495e81f019b680c843c443bd343d5ca5b1c2...  \n4  25fa5ddee9aac01b35208d01736e57942317d756b32ddd...  ",
      "text/html": "<div>\n<style scoped>\n    .dataframe tbody tr th:only-of-type {\n        vertical-align: middle;\n    }\n\n    .dataframe tbody tr th {\n        vertical-align: top;\n    }\n\n    .dataframe thead th {\n        text-align: right;\n    }\n</style>\n<table border=\"1\" class=\"dataframe\">\n  <thead>\n    <tr style=\"text-align: right;\">\n      <th></th>\n      <th>customer_id</th>\n      <th>FN</th>\n      <th>Active</th>\n      <th>club_member_status</th>\n      <th>fashion_news_frequency</th>\n      <th>age</th>\n      <th>postal_code</th>\n    </tr>\n  </thead>\n  <tbody>\n    <tr>\n      <th>0</th>\n      <td>00000dbacae5abe5e23885899a1fa44253a17956c6d1c3...</td>\n      <td>NaN</td>\n      <td>NaN</td>\n      <td>ACTIVE</td>\n      <td>NONE</td>\n      <td>49.0</td>\n      <td>52043ee2162cf5aa7ee79974281641c6f11a68d276429a...</td>\n    </tr>\n    <tr>\n      <th>1</th>\n      <td>0000423b00ade91418cceaf3b26c6af3dd342b51fd051e...</td>\n      <td>NaN</td>\n      <td>NaN</td>\n      <td>ACTIVE</td>\n      <td>NONE</td>\n      <td>25.0</td>\n      <td>2973abc54daa8a5f8ccfe9362140c63247c5eee03f1d93...</td>\n    </tr>\n    <tr>\n      <th>2</th>\n      <td>000058a12d5b43e67d225668fa1f8d618c13dc232df0ca...</td>\n      <td>NaN</td>\n      <td>NaN</td>\n      <td>ACTIVE</td>\n      <td>NONE</td>\n      <td>24.0</td>\n      <td>64f17e6a330a85798e4998f62d0930d14db8db1c054af6...</td>\n    </tr>\n    <tr>\n      <th>3</th>\n      <td>00005ca1c9ed5f5146b52ac8639a40ca9d57aeff4d1bd2...</td>\n      <td>NaN</td>\n      <td>NaN</td>\n      <td>ACTIVE</td>\n      <td>NONE</td>\n      <td>54.0</td>\n      <td>5d36574f52495e81f019b680c843c443bd343d5ca5b1c2...</td>\n    </tr>\n    <tr>\n      <th>4</th>\n      <td>00006413d8573cd20ed7128e53b7b13819fe5cfc2d801f...</td>\n      <td>1.0</td>\n      <td>1.0</td>\n      <td>ACTIVE</td>\n      <td>Regularly</td>\n      <td>52.0</td>\n      <td>25fa5ddee9aac01b35208d01736e57942317d756b32ddd...</td>\n    </tr>\n  </tbody>\n</table>\n</div>"
     },
     "execution_count": 16,
     "metadata": {},
     "output_type": "execute_result"
    }
   ],
   "source": [
    "# Read in the data here\n",
    "customers = pd.read_csv('dataset/full/customers.csv')\n",
    "customers.head()"
   ],
   "metadata": {
    "collapsed": false,
    "pycharm": {
     "name": "#%%\n"
    }
   }
  },
  {
   "cell_type": "code",
   "execution_count": 17,
   "outputs": [
    {
     "name": "stdout",
     "output_type": "stream",
     "text": [
      "<class 'pandas.core.frame.DataFrame'>\n",
      "RangeIndex: 1371980 entries, 0 to 1371979\n",
      "Data columns (total 7 columns):\n",
      " #   Column                  Non-Null Count    Dtype  \n",
      "---  ------                  --------------    -----  \n",
      " 0   customer_id             1371980 non-null  object \n",
      " 1   FN                      476930 non-null   float64\n",
      " 2   Active                  464404 non-null   float64\n",
      " 3   club_member_status      1365918 non-null  object \n",
      " 4   fashion_news_frequency  1355971 non-null  object \n",
      " 5   age                     1356119 non-null  float64\n",
      " 6   postal_code             1371980 non-null  object \n",
      "dtypes: float64(3), object(4)\n",
      "memory usage: 73.3+ MB\n"
     ]
    }
   ],
   "source": [
    "customers.info()"
   ],
   "metadata": {
    "collapsed": false,
    "pycharm": {
     "name": "#%%\n"
    }
   }
  },
  {
   "cell_type": "code",
   "execution_count": 18,
   "outputs": [
    {
     "name": "stdout",
     "output_type": "stream",
     "text": [
      "Customer dataset has 1371980 rows and 7 columns\n"
     ]
    }
   ],
   "source": [
    "print(f'Customer dataset has {customers.shape[0]} rows and {customers.shape[1]} columns')"
   ],
   "metadata": {
    "collapsed": false,
    "pycharm": {
     "name": "#%%\n"
    }
   }
  },
  {
   "cell_type": "markdown",
   "source": [
    "##### Transactions Dataset"
   ],
   "metadata": {
    "collapsed": false
   }
  },
  {
   "cell_type": "code",
   "execution_count": 21,
   "outputs": [
    {
     "data": {
      "text/plain": "        t_dat                                        customer_id  article_id  \\\n0  2018-09-20  000058a12d5b43e67d225668fa1f8d618c13dc232df0ca...   663713001   \n1  2018-09-20  000058a12d5b43e67d225668fa1f8d618c13dc232df0ca...   541518023   \n2  2018-09-20  00007d2de826758b65a93dd24ce629ed66842531df6699...   505221004   \n3  2018-09-20  00007d2de826758b65a93dd24ce629ed66842531df6699...   685687003   \n4  2018-09-20  00007d2de826758b65a93dd24ce629ed66842531df6699...   685687004   \n\n      price  sales_channel_id  \n0  0.050831                 2  \n1  0.030492                 2  \n2  0.015237                 2  \n3  0.016932                 2  \n4  0.016932                 2  ",
      "text/html": "<div>\n<style scoped>\n    .dataframe tbody tr th:only-of-type {\n        vertical-align: middle;\n    }\n\n    .dataframe tbody tr th {\n        vertical-align: top;\n    }\n\n    .dataframe thead th {\n        text-align: right;\n    }\n</style>\n<table border=\"1\" class=\"dataframe\">\n  <thead>\n    <tr style=\"text-align: right;\">\n      <th></th>\n      <th>t_dat</th>\n      <th>customer_id</th>\n      <th>article_id</th>\n      <th>price</th>\n      <th>sales_channel_id</th>\n    </tr>\n  </thead>\n  <tbody>\n    <tr>\n      <th>0</th>\n      <td>2018-09-20</td>\n      <td>000058a12d5b43e67d225668fa1f8d618c13dc232df0ca...</td>\n      <td>663713001</td>\n      <td>0.050831</td>\n      <td>2</td>\n    </tr>\n    <tr>\n      <th>1</th>\n      <td>2018-09-20</td>\n      <td>000058a12d5b43e67d225668fa1f8d618c13dc232df0ca...</td>\n      <td>541518023</td>\n      <td>0.030492</td>\n      <td>2</td>\n    </tr>\n    <tr>\n      <th>2</th>\n      <td>2018-09-20</td>\n      <td>00007d2de826758b65a93dd24ce629ed66842531df6699...</td>\n      <td>505221004</td>\n      <td>0.015237</td>\n      <td>2</td>\n    </tr>\n    <tr>\n      <th>3</th>\n      <td>2018-09-20</td>\n      <td>00007d2de826758b65a93dd24ce629ed66842531df6699...</td>\n      <td>685687003</td>\n      <td>0.016932</td>\n      <td>2</td>\n    </tr>\n    <tr>\n      <th>4</th>\n      <td>2018-09-20</td>\n      <td>00007d2de826758b65a93dd24ce629ed66842531df6699...</td>\n      <td>685687004</td>\n      <td>0.016932</td>\n      <td>2</td>\n    </tr>\n  </tbody>\n</table>\n</div>"
     },
     "execution_count": 21,
     "metadata": {},
     "output_type": "execute_result"
    }
   ],
   "source": [
    "transactions = pd.read_csv('dataset/full/transactions_train.csv')\n",
    "transactions.head()"
   ],
   "metadata": {
    "collapsed": false,
    "pycharm": {
     "name": "#%%\n"
    }
   }
  },
  {
   "cell_type": "code",
   "execution_count": 22,
   "outputs": [
    {
     "name": "stdout",
     "output_type": "stream",
     "text": [
      "<class 'pandas.core.frame.DataFrame'>\n",
      "RangeIndex: 31788324 entries, 0 to 31788323\n",
      "Data columns (total 5 columns):\n",
      " #   Column            Dtype  \n",
      "---  ------            -----  \n",
      " 0   t_dat             object \n",
      " 1   customer_id       object \n",
      " 2   article_id        int64  \n",
      " 3   price             float64\n",
      " 4   sales_channel_id  int64  \n",
      "dtypes: float64(1), int64(2), object(2)\n",
      "memory usage: 1.2+ GB\n"
     ]
    }
   ],
   "source": [
    "transactions.info()"
   ],
   "metadata": {
    "collapsed": false,
    "pycharm": {
     "name": "#%%\n"
    }
   }
  },
  {
   "cell_type": "code",
   "execution_count": 23,
   "outputs": [
    {
     "name": "stdout",
     "output_type": "stream",
     "text": [
      "Transactions dataset has 31788324 rows and 5 columns\n"
     ]
    }
   ],
   "source": [
    "print(f'Transactions dataset has {transactions.shape[0]} rows and {transactions.shape[1]} columns')"
   ],
   "metadata": {
    "collapsed": false,
    "pycharm": {
     "name": "#%%\n"
    }
   }
  },
  {
   "cell_type": "markdown",
   "metadata": {
    "editable": true
   },
   "source": [
    "### Step 2: Explore and Assess the Data\n",
    "#### Explore the Data \n",
    "Identify data quality issues, like missing values, duplicate data, etc.\n"
   ]
  },
  {
   "cell_type": "markdown",
   "source": [
    "##### Articles Dataset"
   ],
   "metadata": {
    "collapsed": false
   }
  },
  {
   "cell_type": "code",
   "execution_count": 24,
   "outputs": [
    {
     "data": {
      "text/plain": "article_id                        0\nproduct_code                      0\nprod_name                         0\nproduct_type_no                   0\nproduct_type_name                 0\nproduct_group_name                0\ngraphical_appearance_no           0\ngraphical_appearance_name         0\ncolour_group_code                 0\ncolour_group_name                 0\nperceived_colour_value_id         0\nperceived_colour_value_name       0\nperceived_colour_master_id        0\nperceived_colour_master_name      0\ndepartment_no                     0\ndepartment_name                   0\nindex_code                        0\nindex_name                        0\nindex_group_no                    0\nindex_group_name                  0\nsection_no                        0\nsection_name                      0\ngarment_group_no                  0\ngarment_group_name                0\ndetail_desc                     416\ndtype: int64"
     },
     "execution_count": 24,
     "metadata": {},
     "output_type": "execute_result"
    }
   ],
   "source": [
    "# Check for missing values\n",
    "articles.isnull().sum()"
   ],
   "metadata": {
    "collapsed": false,
    "pycharm": {
     "name": "#%%\n"
    }
   }
  },
  {
   "cell_type": "markdown",
   "source": [
    "=> there are 416 missing values for the column `details_desc` in the article dataset. This will be not a problem, since the `article id` is the most important information."
   ],
   "metadata": {
    "collapsed": false
   }
  },
  {
   "cell_type": "code",
   "execution_count": 34,
   "outputs": [
    {
     "data": {
      "text/plain": "0"
     },
     "execution_count": 34,
     "metadata": {},
     "output_type": "execute_result"
    }
   ],
   "source": [
    "# check duplicates\n",
    "articles.duplicated(subset='article_id').sum()"
   ],
   "metadata": {
    "collapsed": false,
    "pycharm": {
     "name": "#%%\n"
    }
   }
  },
  {
   "cell_type": "markdown",
   "source": [
    "=> there are no duplicate `article_id` in the article dataset."
   ],
   "metadata": {
    "collapsed": false
   }
  },
  {
   "cell_type": "code",
   "execution_count": 42,
   "outputs": [
    {
     "data": {
      "text/plain": "   article_id  product_code                  prod_name  product_type_no  \\\n0   108775015        108775                  Strap top              253   \n1   108775044        108775                  Strap top              253   \n2   108775051        108775              Strap top (1)              253   \n3   110065001        110065          OP T-shirt (Idro)              306   \n4   110065002        110065          OP T-shirt (Idro)              306   \n5   110065011        110065          OP T-shirt (Idro)              306   \n6   111565001        111565        20 den 1p Stockings              304   \n7   111565003        111565        20 den 1p Stockings              302   \n8   111586001        111586  Shape Up 30 den 1p Tights              273   \n9   111593001        111593   Support 40 den 1p Tights              304   \n\n  product_type_name  product_group_name  graphical_appearance_no  \\\n0          Vest top  Garment Upper body                  1010016   \n1          Vest top  Garment Upper body                  1010016   \n2          Vest top  Garment Upper body                  1010017   \n3               Bra           Underwear                  1010016   \n4               Bra           Underwear                  1010016   \n5               Bra           Underwear                  1010016   \n6  Underwear Tights      Socks & Tights                  1010016   \n7             Socks      Socks & Tights                  1010016   \n8   Leggings/Tights  Garment Lower body                  1010016   \n9  Underwear Tights      Socks & Tights                  1010016   \n\n  graphical_appearance_name  colour_group_code colour_group_name  ...  \\\n0                     Solid                  9             Black  ...   \n1                     Solid                 10             White  ...   \n2                    Stripe                 11         Off White  ...   \n3                     Solid                  9             Black  ...   \n4                     Solid                 10             White  ...   \n5                     Solid                 12       Light Beige  ...   \n6                     Solid                  9             Black  ...   \n7                     Solid                 13             Beige  ...   \n8                     Solid                  9             Black  ...   \n9                     Solid                  9             Black  ...   \n\n   department_name index_code        index_name index_group_no  \\\n0     Jersey Basic          A        Ladieswear              1   \n1     Jersey Basic          A        Ladieswear              1   \n2     Jersey Basic          A        Ladieswear              1   \n3   Clean Lingerie          B  Lingeries/Tights              1   \n4   Clean Lingerie          B  Lingeries/Tights              1   \n5   Clean Lingerie          B  Lingeries/Tights              1   \n6     Tights basic          B  Lingeries/Tights              1   \n7     Tights basic          B  Lingeries/Tights              1   \n8     Tights basic          B  Lingeries/Tights              1   \n9     Tights basic          B  Lingeries/Tights              1   \n\n   index_group_name section_no                    section_name  \\\n0        Ladieswear         16          Womens Everyday Basics   \n1        Ladieswear         16          Womens Everyday Basics   \n2        Ladieswear         16          Womens Everyday Basics   \n3        Ladieswear         61                 Womens Lingerie   \n4        Ladieswear         61                 Womens Lingerie   \n5        Ladieswear         61                 Womens Lingerie   \n6        Ladieswear         62  Womens Nightwear, Socks & Tigh   \n7        Ladieswear         62  Womens Nightwear, Socks & Tigh   \n8        Ladieswear         62  Womens Nightwear, Socks & Tigh   \n9        Ladieswear         62  Womens Nightwear, Socks & Tigh   \n\n  garment_group_no  garment_group_name  \\\n0             1002        Jersey Basic   \n1             1002        Jersey Basic   \n2             1002        Jersey Basic   \n3             1017   Under-, Nightwear   \n4             1017   Under-, Nightwear   \n5             1017   Under-, Nightwear   \n6             1021    Socks and Tights   \n7             1021    Socks and Tights   \n8             1021    Socks and Tights   \n9             1021    Socks and Tights   \n\n                                         detail_desc  \n0            Jersey top with narrow shoulder straps.  \n1            Jersey top with narrow shoulder straps.  \n2            Jersey top with narrow shoulder straps.  \n3  Microfibre T-shirt bra with underwired, moulde...  \n4  Microfibre T-shirt bra with underwired, moulde...  \n5  Microfibre T-shirt bra with underwired, moulde...  \n6  Semi shiny nylon stockings with a wide, reinfo...  \n7  Semi shiny nylon stockings with a wide, reinfo...  \n8  Tights with built-in support to lift the botto...  \n9  Semi shiny tights that shape the tummy, thighs...  \n\n[10 rows x 25 columns]",
      "text/html": "<div>\n<style scoped>\n    .dataframe tbody tr th:only-of-type {\n        vertical-align: middle;\n    }\n\n    .dataframe tbody tr th {\n        vertical-align: top;\n    }\n\n    .dataframe thead th {\n        text-align: right;\n    }\n</style>\n<table border=\"1\" class=\"dataframe\">\n  <thead>\n    <tr style=\"text-align: right;\">\n      <th></th>\n      <th>article_id</th>\n      <th>product_code</th>\n      <th>prod_name</th>\n      <th>product_type_no</th>\n      <th>product_type_name</th>\n      <th>product_group_name</th>\n      <th>graphical_appearance_no</th>\n      <th>graphical_appearance_name</th>\n      <th>colour_group_code</th>\n      <th>colour_group_name</th>\n      <th>...</th>\n      <th>department_name</th>\n      <th>index_code</th>\n      <th>index_name</th>\n      <th>index_group_no</th>\n      <th>index_group_name</th>\n      <th>section_no</th>\n      <th>section_name</th>\n      <th>garment_group_no</th>\n      <th>garment_group_name</th>\n      <th>detail_desc</th>\n    </tr>\n  </thead>\n  <tbody>\n    <tr>\n      <th>0</th>\n      <td>108775015</td>\n      <td>108775</td>\n      <td>Strap top</td>\n      <td>253</td>\n      <td>Vest top</td>\n      <td>Garment Upper body</td>\n      <td>1010016</td>\n      <td>Solid</td>\n      <td>9</td>\n      <td>Black</td>\n      <td>...</td>\n      <td>Jersey Basic</td>\n      <td>A</td>\n      <td>Ladieswear</td>\n      <td>1</td>\n      <td>Ladieswear</td>\n      <td>16</td>\n      <td>Womens Everyday Basics</td>\n      <td>1002</td>\n      <td>Jersey Basic</td>\n      <td>Jersey top with narrow shoulder straps.</td>\n    </tr>\n    <tr>\n      <th>1</th>\n      <td>108775044</td>\n      <td>108775</td>\n      <td>Strap top</td>\n      <td>253</td>\n      <td>Vest top</td>\n      <td>Garment Upper body</td>\n      <td>1010016</td>\n      <td>Solid</td>\n      <td>10</td>\n      <td>White</td>\n      <td>...</td>\n      <td>Jersey Basic</td>\n      <td>A</td>\n      <td>Ladieswear</td>\n      <td>1</td>\n      <td>Ladieswear</td>\n      <td>16</td>\n      <td>Womens Everyday Basics</td>\n      <td>1002</td>\n      <td>Jersey Basic</td>\n      <td>Jersey top with narrow shoulder straps.</td>\n    </tr>\n    <tr>\n      <th>2</th>\n      <td>108775051</td>\n      <td>108775</td>\n      <td>Strap top (1)</td>\n      <td>253</td>\n      <td>Vest top</td>\n      <td>Garment Upper body</td>\n      <td>1010017</td>\n      <td>Stripe</td>\n      <td>11</td>\n      <td>Off White</td>\n      <td>...</td>\n      <td>Jersey Basic</td>\n      <td>A</td>\n      <td>Ladieswear</td>\n      <td>1</td>\n      <td>Ladieswear</td>\n      <td>16</td>\n      <td>Womens Everyday Basics</td>\n      <td>1002</td>\n      <td>Jersey Basic</td>\n      <td>Jersey top with narrow shoulder straps.</td>\n    </tr>\n    <tr>\n      <th>3</th>\n      <td>110065001</td>\n      <td>110065</td>\n      <td>OP T-shirt (Idro)</td>\n      <td>306</td>\n      <td>Bra</td>\n      <td>Underwear</td>\n      <td>1010016</td>\n      <td>Solid</td>\n      <td>9</td>\n      <td>Black</td>\n      <td>...</td>\n      <td>Clean Lingerie</td>\n      <td>B</td>\n      <td>Lingeries/Tights</td>\n      <td>1</td>\n      <td>Ladieswear</td>\n      <td>61</td>\n      <td>Womens Lingerie</td>\n      <td>1017</td>\n      <td>Under-, Nightwear</td>\n      <td>Microfibre T-shirt bra with underwired, moulde...</td>\n    </tr>\n    <tr>\n      <th>4</th>\n      <td>110065002</td>\n      <td>110065</td>\n      <td>OP T-shirt (Idro)</td>\n      <td>306</td>\n      <td>Bra</td>\n      <td>Underwear</td>\n      <td>1010016</td>\n      <td>Solid</td>\n      <td>10</td>\n      <td>White</td>\n      <td>...</td>\n      <td>Clean Lingerie</td>\n      <td>B</td>\n      <td>Lingeries/Tights</td>\n      <td>1</td>\n      <td>Ladieswear</td>\n      <td>61</td>\n      <td>Womens Lingerie</td>\n      <td>1017</td>\n      <td>Under-, Nightwear</td>\n      <td>Microfibre T-shirt bra with underwired, moulde...</td>\n    </tr>\n    <tr>\n      <th>5</th>\n      <td>110065011</td>\n      <td>110065</td>\n      <td>OP T-shirt (Idro)</td>\n      <td>306</td>\n      <td>Bra</td>\n      <td>Underwear</td>\n      <td>1010016</td>\n      <td>Solid</td>\n      <td>12</td>\n      <td>Light Beige</td>\n      <td>...</td>\n      <td>Clean Lingerie</td>\n      <td>B</td>\n      <td>Lingeries/Tights</td>\n      <td>1</td>\n      <td>Ladieswear</td>\n      <td>61</td>\n      <td>Womens Lingerie</td>\n      <td>1017</td>\n      <td>Under-, Nightwear</td>\n      <td>Microfibre T-shirt bra with underwired, moulde...</td>\n    </tr>\n    <tr>\n      <th>6</th>\n      <td>111565001</td>\n      <td>111565</td>\n      <td>20 den 1p Stockings</td>\n      <td>304</td>\n      <td>Underwear Tights</td>\n      <td>Socks &amp; Tights</td>\n      <td>1010016</td>\n      <td>Solid</td>\n      <td>9</td>\n      <td>Black</td>\n      <td>...</td>\n      <td>Tights basic</td>\n      <td>B</td>\n      <td>Lingeries/Tights</td>\n      <td>1</td>\n      <td>Ladieswear</td>\n      <td>62</td>\n      <td>Womens Nightwear, Socks &amp; Tigh</td>\n      <td>1021</td>\n      <td>Socks and Tights</td>\n      <td>Semi shiny nylon stockings with a wide, reinfo...</td>\n    </tr>\n    <tr>\n      <th>7</th>\n      <td>111565003</td>\n      <td>111565</td>\n      <td>20 den 1p Stockings</td>\n      <td>302</td>\n      <td>Socks</td>\n      <td>Socks &amp; Tights</td>\n      <td>1010016</td>\n      <td>Solid</td>\n      <td>13</td>\n      <td>Beige</td>\n      <td>...</td>\n      <td>Tights basic</td>\n      <td>B</td>\n      <td>Lingeries/Tights</td>\n      <td>1</td>\n      <td>Ladieswear</td>\n      <td>62</td>\n      <td>Womens Nightwear, Socks &amp; Tigh</td>\n      <td>1021</td>\n      <td>Socks and Tights</td>\n      <td>Semi shiny nylon stockings with a wide, reinfo...</td>\n    </tr>\n    <tr>\n      <th>8</th>\n      <td>111586001</td>\n      <td>111586</td>\n      <td>Shape Up 30 den 1p Tights</td>\n      <td>273</td>\n      <td>Leggings/Tights</td>\n      <td>Garment Lower body</td>\n      <td>1010016</td>\n      <td>Solid</td>\n      <td>9</td>\n      <td>Black</td>\n      <td>...</td>\n      <td>Tights basic</td>\n      <td>B</td>\n      <td>Lingeries/Tights</td>\n      <td>1</td>\n      <td>Ladieswear</td>\n      <td>62</td>\n      <td>Womens Nightwear, Socks &amp; Tigh</td>\n      <td>1021</td>\n      <td>Socks and Tights</td>\n      <td>Tights with built-in support to lift the botto...</td>\n    </tr>\n    <tr>\n      <th>9</th>\n      <td>111593001</td>\n      <td>111593</td>\n      <td>Support 40 den 1p Tights</td>\n      <td>304</td>\n      <td>Underwear Tights</td>\n      <td>Socks &amp; Tights</td>\n      <td>1010016</td>\n      <td>Solid</td>\n      <td>9</td>\n      <td>Black</td>\n      <td>...</td>\n      <td>Tights basic</td>\n      <td>B</td>\n      <td>Lingeries/Tights</td>\n      <td>1</td>\n      <td>Ladieswear</td>\n      <td>62</td>\n      <td>Womens Nightwear, Socks &amp; Tigh</td>\n      <td>1021</td>\n      <td>Socks and Tights</td>\n      <td>Semi shiny tights that shape the tummy, thighs...</td>\n    </tr>\n  </tbody>\n</table>\n<p>10 rows × 25 columns</p>\n</div>"
     },
     "execution_count": 42,
     "metadata": {},
     "output_type": "execute_result"
    }
   ],
   "source": [
    "articles.head(10)"
   ],
   "metadata": {
    "collapsed": false,
    "pycharm": {
     "name": "#%%\n"
    }
   }
  },
  {
   "cell_type": "code",
   "execution_count": 40,
   "outputs": [
    {
     "data": {
      "text/plain": "article_id                      105542\nproduct_code                     47224\nprod_name                        45875\nproduct_type_no                    132\nproduct_type_name                  131\nproduct_group_name                  19\ngraphical_appearance_no             30\ngraphical_appearance_name           30\ncolour_group_code                   50\ncolour_group_name                   50\nperceived_colour_value_id            8\nperceived_colour_value_name          8\nperceived_colour_master_id          20\nperceived_colour_master_name        20\ndepartment_no                      299\ndepartment_name                    250\nindex_code                          10\nindex_name                          10\nindex_group_no                       5\nindex_group_name                     5\nsection_no                          57\nsection_name                        56\ngarment_group_no                    21\ngarment_group_name                  21\ndetail_desc                      43404\ndtype: int64"
     },
     "execution_count": 40,
     "metadata": {},
     "output_type": "execute_result"
    }
   ],
   "source": [
    "# check categorical data\n",
    "articles.nunique()"
   ],
   "metadata": {
    "collapsed": false,
    "pycharm": {
     "name": "#%%\n"
    }
   }
  },
  {
   "cell_type": "markdown",
   "source": [
    "=> most of the feature are categorical data. => need to be normalized.\n",
    "**NOTE** : Check if the data are unique! (UNIQUE in DB schema)"
   ],
   "metadata": {
    "collapsed": false
   }
  },
  {
   "cell_type": "markdown",
   "source": [
    "##### Customer Dataset"
   ],
   "metadata": {
    "collapsed": false
   }
  },
  {
   "cell_type": "code",
   "execution_count": 28,
   "outputs": [
    {
     "data": {
      "text/plain": "customer_id                    0\nFN                        895050\nActive                    907576\nclub_member_status          6062\nfashion_news_frequency     16009\nage                        15861\npostal_code                    0\ndtype: int64"
     },
     "execution_count": 28,
     "metadata": {},
     "output_type": "execute_result"
    }
   ],
   "source": [
    "# check missing values in the customer dataset\n",
    "customers.isnull().sum()"
   ],
   "metadata": {
    "collapsed": false,
    "pycharm": {
     "name": "#%%\n"
    }
   }
  },
  {
   "cell_type": "markdown",
   "source": [
    "=> there are no missing `customer_id in the customer dataset."
   ],
   "metadata": {
    "collapsed": false
   }
  },
  {
   "cell_type": "code",
   "execution_count": 31,
   "outputs": [
    {
     "data": {
      "text/plain": "0"
     },
     "execution_count": 31,
     "metadata": {},
     "output_type": "execute_result"
    }
   ],
   "source": [
    "# check dupicates customer_id\n",
    "customers.duplicated(subset='customer_id').sum()"
   ],
   "metadata": {
    "collapsed": false,
    "pycharm": {
     "name": "#%%\n"
    }
   }
  },
  {
   "cell_type": "markdown",
   "source": [
    "=> there are no duplicate `customer_id` in the customer dataset."
   ],
   "metadata": {
    "collapsed": false
   }
  },
  {
   "cell_type": "code",
   "execution_count": 43,
   "outputs": [
    {
     "data": {
      "text/plain": "                                         customer_id   FN  Active  \\\n0  00000dbacae5abe5e23885899a1fa44253a17956c6d1c3...  NaN     NaN   \n1  0000423b00ade91418cceaf3b26c6af3dd342b51fd051e...  NaN     NaN   \n2  000058a12d5b43e67d225668fa1f8d618c13dc232df0ca...  NaN     NaN   \n3  00005ca1c9ed5f5146b52ac8639a40ca9d57aeff4d1bd2...  NaN     NaN   \n4  00006413d8573cd20ed7128e53b7b13819fe5cfc2d801f...  1.0     1.0   \n5  000064249685c11552da43ef22a5030f35a147f723d5b0...  NaN     NaN   \n6  0000757967448a6cb83efb3ea7a3fb9d418ac7adf2379d...  NaN     NaN   \n7  00007d2de826758b65a93dd24ce629ed66842531df6699...  1.0     1.0   \n8  00007e8d4e54114b5b2a9b51586325a8d0fa74ea23ef77...  NaN     NaN   \n9  00008469a21b50b3d147c97135e25b4201a8c58997f787...  NaN     NaN   \n\n  club_member_status fashion_news_frequency   age  \\\n0             ACTIVE                   NONE  49.0   \n1             ACTIVE                   NONE  25.0   \n2             ACTIVE                   NONE  24.0   \n3             ACTIVE                   NONE  54.0   \n4             ACTIVE              Regularly  52.0   \n5                NaN                    NaN   NaN   \n6             ACTIVE                   NONE  20.0   \n7             ACTIVE              Regularly  32.0   \n8             ACTIVE                   NONE  20.0   \n9             ACTIVE                   NONE  20.0   \n\n                                         postal_code  \n0  52043ee2162cf5aa7ee79974281641c6f11a68d276429a...  \n1  2973abc54daa8a5f8ccfe9362140c63247c5eee03f1d93...  \n2  64f17e6a330a85798e4998f62d0930d14db8db1c054af6...  \n3  5d36574f52495e81f019b680c843c443bd343d5ca5b1c2...  \n4  25fa5ddee9aac01b35208d01736e57942317d756b32ddd...  \n5  2c29ae653a9282cce4151bd87643c907644e09541abc28...  \n6  fe7b8e2b3fafb89ca90db17ffeeae0fd29b795d803f749...  \n7  8d6f45050876d059c830a0fe63f1a4c022de279bb68ce3...  \n8  2c29ae653a9282cce4151bd87643c907644e09541abc28...  \n9  2c29ae653a9282cce4151bd87643c907644e09541abc28...  ",
      "text/html": "<div>\n<style scoped>\n    .dataframe tbody tr th:only-of-type {\n        vertical-align: middle;\n    }\n\n    .dataframe tbody tr th {\n        vertical-align: top;\n    }\n\n    .dataframe thead th {\n        text-align: right;\n    }\n</style>\n<table border=\"1\" class=\"dataframe\">\n  <thead>\n    <tr style=\"text-align: right;\">\n      <th></th>\n      <th>customer_id</th>\n      <th>FN</th>\n      <th>Active</th>\n      <th>club_member_status</th>\n      <th>fashion_news_frequency</th>\n      <th>age</th>\n      <th>postal_code</th>\n    </tr>\n  </thead>\n  <tbody>\n    <tr>\n      <th>0</th>\n      <td>00000dbacae5abe5e23885899a1fa44253a17956c6d1c3...</td>\n      <td>NaN</td>\n      <td>NaN</td>\n      <td>ACTIVE</td>\n      <td>NONE</td>\n      <td>49.0</td>\n      <td>52043ee2162cf5aa7ee79974281641c6f11a68d276429a...</td>\n    </tr>\n    <tr>\n      <th>1</th>\n      <td>0000423b00ade91418cceaf3b26c6af3dd342b51fd051e...</td>\n      <td>NaN</td>\n      <td>NaN</td>\n      <td>ACTIVE</td>\n      <td>NONE</td>\n      <td>25.0</td>\n      <td>2973abc54daa8a5f8ccfe9362140c63247c5eee03f1d93...</td>\n    </tr>\n    <tr>\n      <th>2</th>\n      <td>000058a12d5b43e67d225668fa1f8d618c13dc232df0ca...</td>\n      <td>NaN</td>\n      <td>NaN</td>\n      <td>ACTIVE</td>\n      <td>NONE</td>\n      <td>24.0</td>\n      <td>64f17e6a330a85798e4998f62d0930d14db8db1c054af6...</td>\n    </tr>\n    <tr>\n      <th>3</th>\n      <td>00005ca1c9ed5f5146b52ac8639a40ca9d57aeff4d1bd2...</td>\n      <td>NaN</td>\n      <td>NaN</td>\n      <td>ACTIVE</td>\n      <td>NONE</td>\n      <td>54.0</td>\n      <td>5d36574f52495e81f019b680c843c443bd343d5ca5b1c2...</td>\n    </tr>\n    <tr>\n      <th>4</th>\n      <td>00006413d8573cd20ed7128e53b7b13819fe5cfc2d801f...</td>\n      <td>1.0</td>\n      <td>1.0</td>\n      <td>ACTIVE</td>\n      <td>Regularly</td>\n      <td>52.0</td>\n      <td>25fa5ddee9aac01b35208d01736e57942317d756b32ddd...</td>\n    </tr>\n    <tr>\n      <th>5</th>\n      <td>000064249685c11552da43ef22a5030f35a147f723d5b0...</td>\n      <td>NaN</td>\n      <td>NaN</td>\n      <td>NaN</td>\n      <td>NaN</td>\n      <td>NaN</td>\n      <td>2c29ae653a9282cce4151bd87643c907644e09541abc28...</td>\n    </tr>\n    <tr>\n      <th>6</th>\n      <td>0000757967448a6cb83efb3ea7a3fb9d418ac7adf2379d...</td>\n      <td>NaN</td>\n      <td>NaN</td>\n      <td>ACTIVE</td>\n      <td>NONE</td>\n      <td>20.0</td>\n      <td>fe7b8e2b3fafb89ca90db17ffeeae0fd29b795d803f749...</td>\n    </tr>\n    <tr>\n      <th>7</th>\n      <td>00007d2de826758b65a93dd24ce629ed66842531df6699...</td>\n      <td>1.0</td>\n      <td>1.0</td>\n      <td>ACTIVE</td>\n      <td>Regularly</td>\n      <td>32.0</td>\n      <td>8d6f45050876d059c830a0fe63f1a4c022de279bb68ce3...</td>\n    </tr>\n    <tr>\n      <th>8</th>\n      <td>00007e8d4e54114b5b2a9b51586325a8d0fa74ea23ef77...</td>\n      <td>NaN</td>\n      <td>NaN</td>\n      <td>ACTIVE</td>\n      <td>NONE</td>\n      <td>20.0</td>\n      <td>2c29ae653a9282cce4151bd87643c907644e09541abc28...</td>\n    </tr>\n    <tr>\n      <th>9</th>\n      <td>00008469a21b50b3d147c97135e25b4201a8c58997f787...</td>\n      <td>NaN</td>\n      <td>NaN</td>\n      <td>ACTIVE</td>\n      <td>NONE</td>\n      <td>20.0</td>\n      <td>2c29ae653a9282cce4151bd87643c907644e09541abc28...</td>\n    </tr>\n  </tbody>\n</table>\n</div>"
     },
     "execution_count": 43,
     "metadata": {},
     "output_type": "execute_result"
    }
   ],
   "source": [
    "customers.head(10)"
   ],
   "metadata": {
    "collapsed": false,
    "pycharm": {
     "name": "#%%\n"
    }
   }
  },
  {
   "cell_type": "code",
   "execution_count": 44,
   "outputs": [
    {
     "data": {
      "text/plain": "customer_id               1371980\nFN                              1\nActive                          1\nclub_member_status              3\nfashion_news_frequency          4\nage                            84\npostal_code                352899\ndtype: int64"
     },
     "execution_count": 44,
     "metadata": {},
     "output_type": "execute_result"
    }
   ],
   "source": [
    "# check categorical data\n",
    "customers.nunique()"
   ],
   "metadata": {
    "collapsed": false,
    "pycharm": {
     "name": "#%%\n"
    }
   }
  },
  {
   "cell_type": "markdown",
   "source": [
    "=> there is no need to normalize the data"
   ],
   "metadata": {
    "collapsed": false
   }
  },
  {
   "cell_type": "markdown",
   "source": [
    "=> `FN` and `Active` could be converted into boolean."
   ],
   "metadata": {
    "collapsed": false
   }
  },
  {
   "cell_type": "markdown",
   "source": [
    "##### Transactions Dataset"
   ],
   "metadata": {
    "collapsed": false
   }
  },
  {
   "cell_type": "code",
   "execution_count": 35,
   "outputs": [
    {
     "data": {
      "text/plain": "t_dat               0\ncustomer_id         0\narticle_id          0\nprice               0\nsales_channel_id    0\ndtype: int64"
     },
     "execution_count": 35,
     "metadata": {},
     "output_type": "execute_result"
    }
   ],
   "source": [
    "# check missing values in the transactions dataset\n",
    "transactions.isnull().sum()"
   ],
   "metadata": {
    "collapsed": false,
    "pycharm": {
     "name": "#%%\n"
    }
   }
  },
  {
   "cell_type": "markdown",
   "source": [
    "=> there are no missing values in the transactions dataset."
   ],
   "metadata": {
    "collapsed": false
   }
  },
  {
   "cell_type": "code",
   "execution_count": 37,
   "outputs": [
    {
     "data": {
      "text/plain": "4481885"
     },
     "execution_count": 37,
     "metadata": {},
     "output_type": "execute_result"
    }
   ],
   "source": [
    "# check duplicates customer_id and articles_id in the transactions\n",
    "transactions.duplicated(subset=['customer_id', 'article_id']).sum()"
   ],
   "metadata": {
    "collapsed": false,
    "pycharm": {
     "name": "#%%\n"
    }
   }
  },
  {
   "cell_type": "markdown",
   "source": [
    "=> there are no duplicate `customer_id` and `article_id` in the transactions dataset. Which means that the customer buy the same thing twice and will not be a problem for our pipeline"
   ],
   "metadata": {
    "collapsed": false
   }
  },
  {
   "cell_type": "code",
   "execution_count": 45,
   "outputs": [
    {
     "data": {
      "text/plain": "        t_dat                                        customer_id  article_id  \\\n0  2018-09-20  000058a12d5b43e67d225668fa1f8d618c13dc232df0ca...   663713001   \n1  2018-09-20  000058a12d5b43e67d225668fa1f8d618c13dc232df0ca...   541518023   \n2  2018-09-20  00007d2de826758b65a93dd24ce629ed66842531df6699...   505221004   \n3  2018-09-20  00007d2de826758b65a93dd24ce629ed66842531df6699...   685687003   \n4  2018-09-20  00007d2de826758b65a93dd24ce629ed66842531df6699...   685687004   \n5  2018-09-20  00007d2de826758b65a93dd24ce629ed66842531df6699...   685687001   \n6  2018-09-20  00007d2de826758b65a93dd24ce629ed66842531df6699...   505221001   \n7  2018-09-20  00083cda041544b2fbb0e0d2905ad17da7cf1007526fb4...   688873012   \n8  2018-09-20  00083cda041544b2fbb0e0d2905ad17da7cf1007526fb4...   501323011   \n9  2018-09-20  00083cda041544b2fbb0e0d2905ad17da7cf1007526fb4...   598859003   \n\n      price  sales_channel_id  \n0  0.050831                 2  \n1  0.030492                 2  \n2  0.015237                 2  \n3  0.016932                 2  \n4  0.016932                 2  \n5  0.016932                 2  \n6  0.020322                 2  \n7  0.030492                 1  \n8  0.053373                 1  \n9  0.045746                 2  ",
      "text/html": "<div>\n<style scoped>\n    .dataframe tbody tr th:only-of-type {\n        vertical-align: middle;\n    }\n\n    .dataframe tbody tr th {\n        vertical-align: top;\n    }\n\n    .dataframe thead th {\n        text-align: right;\n    }\n</style>\n<table border=\"1\" class=\"dataframe\">\n  <thead>\n    <tr style=\"text-align: right;\">\n      <th></th>\n      <th>t_dat</th>\n      <th>customer_id</th>\n      <th>article_id</th>\n      <th>price</th>\n      <th>sales_channel_id</th>\n    </tr>\n  </thead>\n  <tbody>\n    <tr>\n      <th>0</th>\n      <td>2018-09-20</td>\n      <td>000058a12d5b43e67d225668fa1f8d618c13dc232df0ca...</td>\n      <td>663713001</td>\n      <td>0.050831</td>\n      <td>2</td>\n    </tr>\n    <tr>\n      <th>1</th>\n      <td>2018-09-20</td>\n      <td>000058a12d5b43e67d225668fa1f8d618c13dc232df0ca...</td>\n      <td>541518023</td>\n      <td>0.030492</td>\n      <td>2</td>\n    </tr>\n    <tr>\n      <th>2</th>\n      <td>2018-09-20</td>\n      <td>00007d2de826758b65a93dd24ce629ed66842531df6699...</td>\n      <td>505221004</td>\n      <td>0.015237</td>\n      <td>2</td>\n    </tr>\n    <tr>\n      <th>3</th>\n      <td>2018-09-20</td>\n      <td>00007d2de826758b65a93dd24ce629ed66842531df6699...</td>\n      <td>685687003</td>\n      <td>0.016932</td>\n      <td>2</td>\n    </tr>\n    <tr>\n      <th>4</th>\n      <td>2018-09-20</td>\n      <td>00007d2de826758b65a93dd24ce629ed66842531df6699...</td>\n      <td>685687004</td>\n      <td>0.016932</td>\n      <td>2</td>\n    </tr>\n    <tr>\n      <th>5</th>\n      <td>2018-09-20</td>\n      <td>00007d2de826758b65a93dd24ce629ed66842531df6699...</td>\n      <td>685687001</td>\n      <td>0.016932</td>\n      <td>2</td>\n    </tr>\n    <tr>\n      <th>6</th>\n      <td>2018-09-20</td>\n      <td>00007d2de826758b65a93dd24ce629ed66842531df6699...</td>\n      <td>505221001</td>\n      <td>0.020322</td>\n      <td>2</td>\n    </tr>\n    <tr>\n      <th>7</th>\n      <td>2018-09-20</td>\n      <td>00083cda041544b2fbb0e0d2905ad17da7cf1007526fb4...</td>\n      <td>688873012</td>\n      <td>0.030492</td>\n      <td>1</td>\n    </tr>\n    <tr>\n      <th>8</th>\n      <td>2018-09-20</td>\n      <td>00083cda041544b2fbb0e0d2905ad17da7cf1007526fb4...</td>\n      <td>501323011</td>\n      <td>0.053373</td>\n      <td>1</td>\n    </tr>\n    <tr>\n      <th>9</th>\n      <td>2018-09-20</td>\n      <td>00083cda041544b2fbb0e0d2905ad17da7cf1007526fb4...</td>\n      <td>598859003</td>\n      <td>0.045746</td>\n      <td>2</td>\n    </tr>\n  </tbody>\n</table>\n</div>"
     },
     "execution_count": 45,
     "metadata": {},
     "output_type": "execute_result"
    }
   ],
   "source": [
    "transactions.head(10)"
   ],
   "metadata": {
    "collapsed": false,
    "pycharm": {
     "name": "#%%\n"
    }
   }
  },
  {
   "cell_type": "code",
   "execution_count": 46,
   "outputs": [
    {
     "data": {
      "text/plain": "t_dat                   734\ncustomer_id         1362281\narticle_id           104547\nprice                  9857\nsales_channel_id          2\ndtype: int64"
     },
     "execution_count": 46,
     "metadata": {},
     "output_type": "execute_result"
    }
   ],
   "source": [
    "transactions.nunique()"
   ],
   "metadata": {
    "collapsed": false,
    "pycharm": {
     "name": "#%%\n"
    }
   }
  },
  {
   "cell_type": "markdown",
   "source": [
    "#### Cleaning Steps\n",
    "There is no need to clean the dataset, since the data already cleaned."
   ],
   "metadata": {
    "collapsed": false
   }
  },
  {
   "cell_type": "markdown",
   "metadata": {
    "editable": true
   },
   "source": [
    "### Step 3: Define the Data Model\n",
    "\n",
    "#### 3.1 Conceptual Data Model\n",
    "![ERD of the starschema](./assets/star_schema.png)\n",
    "The data model will be a star schema with `transactions` as the **FACT** table, and `customers` and `articles` as the **DIMENSION** tables. The `articles`table will have another metatable that improves the information of the `articles` table.\n",
    "\n",
    "The `transactions` are used as **FACT** table, because it contains the most of the transaction data (movement data/events). The colom `id` or `code` or `no` are dropped, since they are not useful for our analysis. But the `articles` will have another column `has_image` that indicates whether the article has an image or not.\n",
    "\n",
    "---\n",
    "\n",
    "**Star Schema**\n",
    "Star schema are chosen, because the query from the business analyst (requirement) are mostly related on the transactions of the customer. With the star schema, the query will be more efficient. The \n",
    "disadvantages will be that the data integrity is not guaranteed, but this could be checked with the data quality check.\n",
    "\n",
    "Snowflake Schema is also a consideration, but the business analyst prefer faster approach to create a faster reporting and act based on it (such as send promotion email to the customer).\n",
    "\n",
    "---\n",
    "\n",
    "#### 3.2 Mapping Out Data Pipelines\n",
    "The RAW data and images information are loaded in the staging area in `redshift`. From there, the data will be loaded into the fact and dimension tables.\n",
    "The `articles` dataset will be only selected for the necessary information, the id of the metadata will be removed."
   ]
  },
  {
   "cell_type": "markdown",
   "metadata": {
    "editable": true
   },
   "source": [
    "### Step 4: Run Pipelines to Model the Data\n",
    "This step will be directly implemented in the code as Airflow Operator\n"
   ]
  },
  {
   "cell_type": "markdown",
   "metadata": {
    "editable": true
   },
   "source": [
    "#### 4.1 Data Quality Checks\n",
    "Following data quality checks are performed:\n",
    "- check if there are data in the `articles`, `customers` and `transactions`\n",
    "- check if all datas in `staging_articles` are transformed into `articles`\n",
    "- check if all datas in `customers` and `transactions` are unique."
   ]
  },
  {
   "cell_type": "markdown",
   "source": [
    "#### 4.2 Query Examples\n",
    "Following question could be answered:\n",
    "- Which products group are most popular in year 2020?\n",
    "  ```sql\n",
    "  SELECT product_type_name,\n",
    "         COUNT(*)\n",
    "  FROM fact_transactions ft\n",
    "         JOIN dim_articles da ON ft.article_id = da.article_id\n",
    "  WHERE DATE_PART_YEAR(date_of_purchase) = 2020\n",
    "  GROUP BY product_type_name\n",
    "  ORDER BY COUNT(*) DESC;\n",
    "  ```\n",
    "- What is the distribution of user that buy the TShirt and also has active club member?\n",
    "  ```sql\n",
    "  SELECT is_active_club_member_status,\n",
    "         COUNT(*)\n",
    "  FROM fact_transactions ft\n",
    "         JOIN dim_articles da ON ft.article_id = da.article_id\n",
    "      JOIN dim_customers dc ON ft.customer_id = dc.customer_id\n",
    "  WHERE product_type_name = 'T-shirt'\n",
    "  GROUP BY is_active_club_member_status\n",
    "  ```"
   ],
   "metadata": {
    "collapsed": false
   }
  },
  {
   "cell_type": "markdown",
   "metadata": {
    "editable": true,
    "pycharm": {
     "name": "#%% md\n"
    }
   },
   "source": [
    "#### Step 5: Complete Project Write Up\n",
    "* Clearly state the rationale for the choice of tools and technologies for the project.\n",
    "* Propose how often the data should be updated and why.\n",
    "* Write a description of how you would approach the problem differently under the following scenarios:\n",
    " * The data was increased by 100x.\n",
    " * The data populates a dashboard that must be updated on a daily basis by 7am every day.\n",
    " * The database needed to be accessed by 100+ people."
   ]
  },
  {
   "cell_type": "markdown",
   "source": [
    "Technology Stack:\n",
    "- S3 are used because its capability to save big data and images (images in this project is around 35 GB)\n",
    "- Redshift are used to stage the s3 into the staging area, because its fast and easy to access and a native service from AWS\n",
    "- Airflow is used to run the ETL pipeline"
   ],
   "metadata": {
    "collapsed": false
   }
  },
  {
   "cell_type": "markdown",
   "source": [
    "Data update frequency:\n",
    "For answering the given query, the data could be updated daily. To generate the report the analyst does not need the actual data.\n",
    "\n",
    "For time crucial data, such as customer winback (if a customer want to delete their account), then a realtime data will be great, so the customer could get a realtime offer before deleting their account.\n",
    "\n",
    "A real time data could be achieved by using pyspark streaming that read the stream and ingest the data into the staging area. Another \"cron\" task could be scheduled to ingest the data into the fact and dimension tables by appending into it."
   ],
   "metadata": {
    "collapsed": false
   }
  },
  {
   "cell_type": "markdown",
   "source": [
    "Possible Scenario:\n",
    "- **The data was increased by 100x.**\n",
    "  => With the solution in this ETL pipeline, this should give no problem at all. The heavy task are given to the cloud (Redshift) and the calculation are based on sql, which run also on cloud. The airflow is just used as an orchestration tool for maintaining the data movement.\n",
    "- **The data populates a dashboard that must be updated on a daily basis by 7am every day.**\n",
    "  => Because of the time constraint, the data could be triggered early in the morning and this should be also not a problem at all. An SLA could be set for the data to be updated before 7am. If the SLA could not be achieved, then the redshift cluster could be scaled up to accommodate the data.\n",
    "- **The database needed to be accessed by 100+ people.**\n",
    "  => This will be no problem at all, since we are using the native internal table from Redshift. The query performance will be much better than the external table (reading from S3).\n"
   ],
   "metadata": {
    "collapsed": false
   }
  }
 ],
 "metadata": {
  "kernelspec": {
   "display_name": "Python 3",
   "language": "python",
   "name": "python3"
  },
  "language_info": {
   "codemirror_mode": {
    "name": "ipython",
    "version": 3
   },
   "file_extension": ".py",
   "mimetype": "text/x-python",
   "name": "python",
   "nbconvert_exporter": "python",
   "pygments_lexer": "ipython3",
   "version": "3.6.3"
  }
 },
 "nbformat": 4,
 "nbformat_minor": 4
}